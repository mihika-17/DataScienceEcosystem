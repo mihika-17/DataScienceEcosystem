{
 "cells": [
  {
   "cell_type": "markdown",
   "id": "ee5556fa",
   "metadata": {},
   "source": [
    "#  Data Science Tools and Ecosystem"
   ]
  },
  {
   "cell_type": "markdown",
   "id": "b1b2fb7d",
   "metadata": {},
   "source": [
    "In this notebook, Data Science Tools and Ecosystem are summarized."
   ]
  },
  {
   "cell_type": "markdown",
   "id": "82bbcef3",
   "metadata": {},
   "source": [
    "**Objectives:**\n",
    "- List of Popular Data Science Languages\n",
    "- List of Commonly Used Data Science Libraries \n",
    "- Table of Data Science tools\n",
    "- Evaluating Arithmetic Expressions in Python"
   ]
  },
  {
   "cell_type": "markdown",
   "id": "de5a23ea",
   "metadata": {},
   "source": [
    "Some of the popular languages that Data Scientists use are:\n",
    "1. Python\n",
    "2. R\n",
    "3. SQL"
   ]
  },
  {
   "cell_type": "markdown",
   "id": "ae5c366a",
   "metadata": {},
   "source": [
    "Some of the commonly used libraries used by Data Scientists include\n",
    "1. Pandas\n",
    "2. NumPy\n",
    "3. TensorFlow"
   ]
  },
  {
   "cell_type": "markdown",
   "id": "8ae072ea",
   "metadata": {},
   "source": [
    "| Data Science Tools |\n",
    "| ----- |\n",
    "| JupyterNotebook |\n",
    "| Apache Spark |\n",
    "| VS Code |"
   ]
  },
  {
   "cell_type": "markdown",
   "id": "bb1d6445",
   "metadata": {},
   "source": [
    "### Below are a few examples of evaluating arithmetic expressions in Python\n",
    " \n",
    "Addition: 2 + 3 evaluates to 5.\n",
    "Subtraction: 10 - 5 evaluates to 5.\n",
    "Multiplication: 4 * 6 evaluates to 24.\n",
    "Division: 10 / 3 evaluates to 3.3333333333333335.\n"
   ]
  },
  {
   "cell_type": "code",
   "execution_count": 9,
   "id": "0f004a80",
   "metadata": {},
   "outputs": [
    {
     "data": {
      "text/plain": [
       "17"
      ]
     },
     "execution_count": 9,
     "metadata": {},
     "output_type": "execute_result"
    }
   ],
   "source": [
    "# This is a simple arithmetic expression to multiply then add integers.\n",
    "result = (3 * 4) + 5\n",
    "result\n"
   ]
  },
  {
   "cell_type": "code",
   "execution_count": 10,
   "id": "87a81940",
   "metadata": {},
   "outputs": [
    {
     "data": {
      "text/plain": [
       "3.3333333333333335"
      ]
     },
     "execution_count": 10,
     "metadata": {},
     "output_type": "execute_result"
    }
   ],
   "source": [
    "# This will convert 200 minutes to hours by diving by 60\n",
    "result = (200)/ 60\n",
    "result"
   ]
  },
  {
   "cell_type": "markdown",
   "id": "03eeffb7",
   "metadata": {},
   "source": [
    "## Author\n",
    "Mihika Desai"
   ]
  }
 ],
 "metadata": {
  "kernelspec": {
   "display_name": "Python 3 (ipykernel)",
   "language": "python",
   "name": "python3"
  },
  "language_info": {
   "codemirror_mode": {
    "name": "ipython",
    "version": 3
   },
   "file_extension": ".py",
   "mimetype": "text/x-python",
   "name": "python",
   "nbconvert_exporter": "python",
   "pygments_lexer": "ipython3",
   "version": "3.10.9"
  }
 },
 "nbformat": 4,
 "nbformat_minor": 5
}
